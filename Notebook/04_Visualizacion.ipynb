{
 "cells": [
  {
   "cell_type": "markdown",
   "id": "b3d06ac8-de55-4bec-91cf-b6e3fd3d41a4",
   "metadata": {},
   "source": [
    "<div>\n",
    "<img src=\"https://i.ibb.co/v3CvVz9/udd-short.png\" width=\"150\"/>\n",
    "    <br>\n",
    "    <strong>Universidad del Desarrollo</strong><br>\n",
    "    <em>Magíster en Data Science</em><br>\n",
    "    <em>Profesor: Víctor Navarro Aránguiz</em><br>\n",
    "\n",
    "</div>\n",
    "\n",
    "# Python para Data Science: Proyecto final (Parte: Visualización)\n",
    "\n",
    "**Fecha de Entrega**: 04 de Agosto de 2024\n",
    "\n",
    "**Objetivos:**\n",
    "  - Crear y personalizar gráficos que representen adecuadamente los datos, utilizando tanto variables originales como\n",
    "creadas.\n",
    "\n",
    "**Nombre Estudiante(s)**: `Ingrid Solís`"
   ]
  },
  {
   "cell_type": "code",
   "execution_count": null,
   "id": "ec8335df-c652-49cc-b294-ba5f3a08a03f",
   "metadata": {},
   "outputs": [],
   "source": []
  }
 ],
 "metadata": {
  "kernelspec": {
   "display_name": "Python 3 (ipykernel)",
   "language": "python",
   "name": "python3"
  },
  "language_info": {
   "codemirror_mode": {
    "name": "ipython",
    "version": 3
   },
   "file_extension": ".py",
   "mimetype": "text/x-python",
   "name": "python",
   "nbconvert_exporter": "python",
   "pygments_lexer": "ipython3",
   "version": "3.11.7"
  }
 },
 "nbformat": 4,
 "nbformat_minor": 5
}
