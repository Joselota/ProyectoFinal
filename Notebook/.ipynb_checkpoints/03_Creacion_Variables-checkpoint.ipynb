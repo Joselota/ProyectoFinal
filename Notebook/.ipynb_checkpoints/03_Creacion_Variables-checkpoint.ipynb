{
 "cells": [
  {
   "cell_type": "markdown",
   "id": "1722289e-70db-4b29-a4bd-41899bf209c1",
   "metadata": {},
   "source": [
    "<div>\n",
    "<img src=\"https://i.ibb.co/v3CvVz9/udd-short.png\" width=\"150\"/>\n",
    "    <br>\n",
    "    <strong>Universidad del Desarrollo</strong><br>\n",
    "    <em>Magíster en Data Science</em><br>\n",
    "    <em>Profesor: Víctor Navarro Aránguiz</em><br>\n",
    "\n",
    "</div>\n",
    "\n",
    "# Python para Data Science: Proyecto final (Parte: Creación de variables)\n",
    "\n",
    "**Fecha de Entrega**: 04 de Agosto de 2024\n",
    "\n",
    "**Objetivos:**\n",
    "  - Generar nuevas variables que puedan proporcionar información adicional o mejorar el análisis.\n",
    "\n",
    "**Nombre Estudiante(s)**: `Ingrid Solís`"
   ]
  },
  {
   "cell_type": "code",
   "execution_count": 28,
   "id": "f3c04b87-3953-46de-8429-ab76d4442b0f",
   "metadata": {},
   "outputs": [
    {
     "name": "stdout",
     "output_type": "stream",
     "text": [
      "  File Number          Date of Report                      Crime Date Time  \\\n",
      "0  2009-01323  02/21/2009 09:53:00 AM             02/21/2009 09:20 - 09:30   \n",
      "1  2009-01324  02/21/2009 09:59:00 AM  02/20/2009 22:30 - 02/21/2009 10:00   \n",
      "2  2009-01327  02/21/2009 12:32:00 PM  02/19/2009 21:00 - 02/21/2009 12:00   \n",
      "3  2009-01331  02/21/2009 03:05:00 PM             02/21/2009 15:00 - 15:10   \n",
      "4  2009-01346  02/22/2009 05:02:00 AM                     02/22/2009 05:02   \n",
      "\n",
      "            Crime  Reporting Area     Neighborhood  \\\n",
      "0         Threats           105.0   East Cambridge   \n",
      "1      Auto Theft          1109.0  North Cambridge   \n",
      "2     Hit and Run          1109.0  North Cambridge   \n",
      "3  Larceny (Misc)          1303.0  Strawberry Hill   \n",
      "4             OUI           105.0   East Cambridge   \n",
      "\n",
      "                            Location  \n",
      "0         100 OTIS ST, Cambridge, MA  \n",
      "1      400 RINDGE AVE, Cambridge, MA  \n",
      "2      400 RINDGE AVE, Cambridge, MA  \n",
      "3      0 NORUMBEGA ST, Cambridge, MA  \n",
      "4  FIFTH ST & GORE ST, Cambridge, MA  \n"
     ]
    }
   ],
   "source": [
    "import pandas as pd\n",
    "import re\n",
    "\n",
    "archivo_csv = '/Users/desarrollo/Downloads/Crime_Reports_20240701.csv'\n",
    "df = pd.read_csv(archivo_csv)\n",
    "print(df.head())"
   ]
  },
  {
   "cell_type": "markdown",
   "id": "6c8fb34d-e3b6-46f6-b055-310762c3b532",
   "metadata": {},
   "source": [
    "<br>\n",
    "**Idea**\n",
    "Sería interesante separar el campo Location en tres campos distintos : direccion, ciudad y estado.\n",
    "<br>"
   ]
  },
  {
   "cell_type": "code",
   "execution_count": 30,
   "id": "97fc7633-0f94-4282-a004-36b5955afeea",
   "metadata": {},
   "outputs": [
    {
     "name": "stdout",
     "output_type": "stream",
     "text": [
      "  File Number          Date of Report                      Crime Date Time  \\\n",
      "0  2009-01323  02/21/2009 09:53:00 AM             02/21/2009 09:20 - 09:30   \n",
      "1  2009-01324  02/21/2009 09:59:00 AM  02/20/2009 22:30 - 02/21/2009 10:00   \n",
      "2  2009-01327  02/21/2009 12:32:00 PM  02/19/2009 21:00 - 02/21/2009 12:00   \n",
      "3  2009-01331  02/21/2009 03:05:00 PM             02/21/2009 15:00 - 15:10   \n",
      "4  2009-01346  02/22/2009 05:02:00 AM                     02/22/2009 05:02   \n",
      "\n",
      "            Crime  Reporting Area     Neighborhood  \\\n",
      "0         Threats           105.0   East Cambridge   \n",
      "1      Auto Theft          1109.0  North Cambridge   \n",
      "2     Hit and Run          1109.0  North Cambridge   \n",
      "3  Larceny (Misc)          1303.0  Strawberry Hill   \n",
      "4             OUI           105.0   East Cambridge   \n",
      "\n",
      "                            Location           direccion     ciudad estado  \n",
      "0         100 OTIS ST, Cambridge, MA         100 OTIS ST  Cambridge     MA  \n",
      "1      400 RINDGE AVE, Cambridge, MA      400 RINDGE AVE  Cambridge     MA  \n",
      "2      400 RINDGE AVE, Cambridge, MA      400 RINDGE AVE  Cambridge     MA  \n",
      "3      0 NORUMBEGA ST, Cambridge, MA      0 NORUMBEGA ST  Cambridge     MA  \n",
      "4  FIFTH ST & GORE ST, Cambridge, MA  FIFTH ST & GORE ST  Cambridge     MA  \n"
     ]
    }
   ],
   "source": [
    "# Separar la columna 'ubicaciones' en tres nuevas columnas\n",
    "df[['direccion', 'ciudad', 'estado']] = df['Location'].str.split(',', expand=True)\n",
    "\n",
    "# Eliminar espacios en blanco en las nuevas columnas\n",
    "df['direccion'] = df['direccion'].str.strip()\n",
    "df['ciudad'] = df['ciudad'].str.strip()\n",
    "df['estado'] = df['estado'].str.strip()\n",
    "\n",
    "# Mostrar el DataFrame resultante\n",
    "print(df.head())"
   ]
  },
  {
   "cell_type": "markdown",
   "id": "783afd39-284b-4616-9289-47f1db7516ab",
   "metadata": {},
   "source": [
    "<br>\n",
    "**Idea2**\n",
    "Se propone separar el campo Date of Report en 2 campos distintos : Fecha y hora.\n",
    "<br>"
   ]
  },
  {
   "cell_type": "code",
   "execution_count": 32,
   "id": "3bc37c73-565d-403d-ae7f-98e18ded0f8a",
   "metadata": {},
   "outputs": [
    {
     "name": "stdout",
     "output_type": "stream",
     "text": [
      "  File Number      Date of Report                      Crime Date Time  \\\n",
      "0  2009-01323 2009-02-21 09:53:00             02/21/2009 09:20 - 09:30   \n",
      "1  2009-01324 2009-02-21 09:59:00  02/20/2009 22:30 - 02/21/2009 10:00   \n",
      "2  2009-01327 2009-02-21 12:32:00  02/19/2009 21:00 - 02/21/2009 12:00   \n",
      "3  2009-01331 2009-02-21 15:05:00             02/21/2009 15:00 - 15:10   \n",
      "4  2009-01346 2009-02-22 05:02:00                     02/22/2009 05:02   \n",
      "\n",
      "            Crime  Reporting Area     Neighborhood  \\\n",
      "0         Threats           105.0   East Cambridge   \n",
      "1      Auto Theft          1109.0  North Cambridge   \n",
      "2     Hit and Run          1109.0  North Cambridge   \n",
      "3  Larceny (Misc)          1303.0  Strawberry Hill   \n",
      "4             OUI           105.0   East Cambridge   \n",
      "\n",
      "                            Location           direccion     ciudad estado  \\\n",
      "0         100 OTIS ST, Cambridge, MA         100 OTIS ST  Cambridge     MA   \n",
      "1      400 RINDGE AVE, Cambridge, MA      400 RINDGE AVE  Cambridge     MA   \n",
      "2      400 RINDGE AVE, Cambridge, MA      400 RINDGE AVE  Cambridge     MA   \n",
      "3      0 NORUMBEGA ST, Cambridge, MA      0 NORUMBEGA ST  Cambridge     MA   \n",
      "4  FIFTH ST & GORE ST, Cambridge, MA  FIFTH ST & GORE ST  Cambridge     MA   \n",
      "\n",
      "  Date Reporte Time Reporte  \n",
      "0   2009-02-21     09:53:00  \n",
      "1   2009-02-21     09:59:00  \n",
      "2   2009-02-21     12:32:00  \n",
      "3   2009-02-21     15:05:00  \n",
      "4   2009-02-22     05:02:00  \n"
     ]
    }
   ],
   "source": [
    "# Convertir la columna 'Date of Report' a tipo datetime\n",
    "df['Date of Report'] = pd.to_datetime(df['Date of Report'])\n",
    "\n",
    "# Separar en columnas de fecha y hora\n",
    "df['Date Reporte'] = df['Date of Report'].dt.date\n",
    "df['Time Reporte'] = df['Date of Report'].dt.time\n",
    "\n",
    "# Mostrar el DataFrame resultante\n",
    "print(df.head())"
   ]
  },
  {
   "cell_type": "markdown",
   "id": "cf7529bd-1535-4b65-9790-cc88defb7584",
   "metadata": {},
   "source": [
    "<br>\n",
    "**Idea3**\n",
    "Separemos la columna \"Crime Date Time\" en fecha y horas, con la finalidad de poder manejar los rangos de tiempo adecuadamente.\n",
    "<br>"
   ]
  },
  {
   "cell_type": "code",
   "execution_count": 36,
   "id": "dea80f9c-2a60-428a-9693-3f8fd62b31ed",
   "metadata": {},
   "outputs": [
    {
     "name": "stdout",
     "output_type": "stream",
     "text": [
      "                           Crime Date Time      Start DateTime  \\\n",
      "0                 02/21/2009 09:20 - 09:30 2009-02-21 09:20:00   \n",
      "1      02/20/2009 22:30 - 02/21/2009 10:00 2009-02-20 22:30:00   \n",
      "2      02/19/2009 21:00 - 02/21/2009 12:00 2009-02-19 21:00:00   \n",
      "3                 02/21/2009 15:00 - 15:10 2009-02-21 15:00:00   \n",
      "4                         02/22/2009 05:02 2009-02-22 05:02:00   \n",
      "...                                    ...                 ...   \n",
      "95918             05/04/2024 12:00 - 18:00 2024-05-04 12:00:00   \n",
      "95919             05/07/2024 14:40 - 14:41 2024-05-07 14:40:00   \n",
      "95920             05/07/2024 15:00 - 19:15 2024-05-07 15:00:00   \n",
      "95921             05/07/2024 04:00 - 04:05 2024-05-07 04:00:00   \n",
      "95922             05/05/2024 11:30 - 13:00 2024-05-05 11:30:00   \n",
      "\n",
      "             End DateTime  \n",
      "0                     NaT  \n",
      "1     2009-02-21 10:00:00  \n",
      "2     2009-02-21 12:00:00  \n",
      "3                     NaT  \n",
      "4                     NaT  \n",
      "...                   ...  \n",
      "95918                 NaT  \n",
      "95919                 NaT  \n",
      "95920                 NaT  \n",
      "95921                 NaT  \n",
      "95922                 NaT  \n",
      "\n",
      "[95923 rows x 3 columns]\n",
      "  File Number      Date of Report                      Crime Date Time  \\\n",
      "0  2009-01323 2009-02-21 09:53:00             02/21/2009 09:20 - 09:30   \n",
      "1  2009-01324 2009-02-21 09:59:00  02/20/2009 22:30 - 02/21/2009 10:00   \n",
      "2  2009-01327 2009-02-21 12:32:00  02/19/2009 21:00 - 02/21/2009 12:00   \n",
      "3  2009-01331 2009-02-21 15:05:00             02/21/2009 15:00 - 15:10   \n",
      "4  2009-01346 2009-02-22 05:02:00                     02/22/2009 05:02   \n",
      "\n",
      "            Crime  Reporting Area     Neighborhood  \\\n",
      "0         Threats           105.0   East Cambridge   \n",
      "1      Auto Theft          1109.0  North Cambridge   \n",
      "2     Hit and Run          1109.0  North Cambridge   \n",
      "3  Larceny (Misc)          1303.0  Strawberry Hill   \n",
      "4             OUI           105.0   East Cambridge   \n",
      "\n",
      "                            Location           direccion     ciudad estado  \\\n",
      "0         100 OTIS ST, Cambridge, MA         100 OTIS ST  Cambridge     MA   \n",
      "1      400 RINDGE AVE, Cambridge, MA      400 RINDGE AVE  Cambridge     MA   \n",
      "2      400 RINDGE AVE, Cambridge, MA      400 RINDGE AVE  Cambridge     MA   \n",
      "3      0 NORUMBEGA ST, Cambridge, MA      0 NORUMBEGA ST  Cambridge     MA   \n",
      "4  FIFTH ST & GORE ST, Cambridge, MA  FIFTH ST & GORE ST  Cambridge     MA   \n",
      "\n",
      "  Date Reporte Time Reporte      Start DateTime        End DateTime  \n",
      "0   2009-02-21     09:53:00 2009-02-21 09:20:00                 NaT  \n",
      "1   2009-02-21     09:59:00 2009-02-20 22:30:00 2009-02-21 10:00:00  \n",
      "2   2009-02-21     12:32:00 2009-02-19 21:00:00 2009-02-21 12:00:00  \n",
      "3   2009-02-21     15:05:00 2009-02-21 15:00:00                 NaT  \n",
      "4   2009-02-22     05:02:00 2009-02-22 05:02:00                 NaT  \n"
     ]
    }
   ],
   "source": [
    "# Usar str.extract para obtener las partes de fecha y hora\n",
    "pattern = r'(?P<Start_Date>\\d{2}/\\d{2}/\\d{4} \\d{2}:\\d{2}) - (?P<End_Date>\\d{2}/\\d{2}/\\d{4} \\d{2}:\\d{2})|(?P<Start_Date_Single>\\d{2}/\\d{2}/\\d{4} \\d{2}:\\d{2})|(?P<End_Date_Single>\\d{2}/\\d{2}/\\d{4} \\d{2}:\\d{2})'\n",
    "\n",
    "# Extraer las fechas de inicio y fin\n",
    "extracted = df['Crime Date Time'].str.extract(pattern)\n",
    "\n",
    "# Combinar las columnas extraídas\n",
    "df['Start DateTime'] = pd.to_datetime(extracted['Start_Date'].combine_first(extracted['Start_Date_Single']))\n",
    "df['End DateTime'] = pd.to_datetime(extracted['End_Date'].combine_first(extracted['End_Date_Single']))\n",
    "\n",
    "# Mostrar el DataFrame resultante\n",
    "print(df[['Crime Date Time', 'Start DateTime', 'End DateTime']])\n",
    "# Mostrar el DataFrame resultante\n",
    "print(df.head())"
   ]
  },
  {
   "cell_type": "markdown",
   "id": "a045d3cf-2315-42f1-93b2-4c512eddd5dd",
   "metadata": {},
   "source": [
    "<br>\n",
    "**Resumen:** \n",
    "<br>\n",
    "Con las variables creadas se puede hacer más rigurosos el analisis que vendrá.\n",
    "<ul> \n",
    "<li>Se crearon los campos direccion, ciudad y estado originados desde campo \"Location\".\n",
    "<li>Se crearon los campos \"Date Reporte\" y \"Date of Report\" originados desde el campo: \"Time Reporte\"\n",
    "<li> Por ultimo se crearon los campos \"Start DateTime\" y \"End DateTime\" originados desde \"Crime Date Time\"\n",
    "</ul>\n",
    "<br>"
   ]
  }
 ],
 "metadata": {
  "kernelspec": {
   "display_name": "Python 3 (ipykernel)",
   "language": "python",
   "name": "python3"
  },
  "language_info": {
   "codemirror_mode": {
    "name": "ipython",
    "version": 3
   },
   "file_extension": ".py",
   "mimetype": "text/x-python",
   "name": "python",
   "nbconvert_exporter": "python",
   "pygments_lexer": "ipython3",
   "version": "3.11.7"
  }
 },
 "nbformat": 4,
 "nbformat_minor": 5
}
