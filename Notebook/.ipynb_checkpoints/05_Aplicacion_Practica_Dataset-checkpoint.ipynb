{
 "cells": [
  {
   "cell_type": "markdown",
   "id": "beed8b1f-7b59-45cf-aec3-7d8133569e87",
   "metadata": {},
   "source": [
    "<div>\n",
    "<img src=\"https://i.ibb.co/v3CvVz9/udd-short.png\" width=\"150\"/>\n",
    "    <br>\n",
    "    <strong>Universidad del Desarrollo</strong><br>\n",
    "    <em>Magíster en Data Science</em><br>\n",
    "    <em>Profesor: Víctor Navarro Aránguiz</em><br>\n",
    "\n",
    "</div>\n",
    "\n",
    "# Python para Data Science: Proyecto final (Parte: Aplicación práctica del dataSet)\n",
    "\n",
    "**Fecha de Entrega**: 04 de Agosto de 2024\n",
    "\n",
    "**Objetivos:**\n",
    "  - Proponer una aplicación práctica basada en los datos analizados.\n",
    "\n",
    "**Nombre Estudiante(s)**: `Ingrid Solís`"
   ]
  },
  {
   "cell_type": "markdown",
   "id": "4d32d68c-a2ba-466b-ad31-270a32066f29",
   "metadata": {},
   "source": [
    "<title>Propuesta</title>\n",
    "\n",
    "<h3>Aplicación Práctica: Plataforma de Prevención del Crimen en Cambridge, MA</h3>\n",
    "\n",
    "<p>\n",
    "El objetivo de esta propuesta sería desarrollar una plataforma que permita prevenir los crimenes del área de Cambridge, MA. <br>\n",
    "Esta aplicación utilizará el análisis de datos para proporcionar información valiosa a la comunidad, a las autoridades locales y \n",
    "los responsables de las políticas de seguridad del área. <br>\n",
    "\n",
    "La plataforma permitirá a los usuarios visualizar patrones de criminalidad, recibir alertas sobre actividades delictivas y \n",
    "fomentar la participación ciudadana en la prevención del crimen. <br>\n",
    "\n",
    "\n"
   ]
  },
  {
   "cell_type": "markdown",
   "id": "1f0eff22-98cb-4c57-aa4a-e4d92599450c",
   "metadata": {},
   "source": [
    "<h4>Parte: Análisis de datos</h4>\n",
    "Hallazgos clave:<br>\n",
    "\n",
    "<ul>\n",
    "<li>Identificación de los tipos de crímenes más comunes en diferentes áreas de Cambridge. </li>\n",
    "<li>Determinación de las tendencias delictivas a lo largo del tiempo (por año, mes, etc.). </li>\n",
    "<li>Identificación de áreas específicas con alta incidencia de delitos. </li>\n",
    "</ul>\n",
    "Estos hallazgos servirán como base para las funcionalidades de la plataforma.\n",
    "<br>"
   ]
  },
  {
   "cell_type": "markdown",
   "id": "09813a48-5ea1-4454-93d7-f9603352fa55",
   "metadata": {},
   "source": [
    "<h4>Parte: Desarrollo de la Plataforma</h4>\n",
    "\n",
    "Características Propuestas:<br>\n",
    "\n",
    "<ul>\n",
    "<li>Visualización de Datos: \n",
    "Un panel interactivo que muestre estadísticas de crímenes por tipo, año y ubicación, utilizando gráficos y mapas.</li>\n",
    "<li>Alertas de Crimen: \n",
    "Notificaciones automáticas a los residentes sobre crímenes recientes en su área, basadas en un sistema de geolocalización.</li>\n",
    "<li>Reportes de la Comunidad: \n",
    "Funcionalidad para que los ciudadanos informen sobre delitos o actividades sospechosas.</li>\n",
    "<li>Consejos de Seguridad:\n",
    "Sugerencias personalizadas para mejorar la seguridad en diferentes vecindarios, basadas en la historia delictiva.</li>\n",
    "<li>Colaboración con la Policía: \n",
    "Integración con el departamento de policía local para recibir actualizaciones y mejorar la respuesta comunitaria.</li>\n",
    "</ul>"
   ]
  }
 ],
 "metadata": {
  "kernelspec": {
   "display_name": "Python 3 (ipykernel)",
   "language": "python",
   "name": "python3"
  },
  "language_info": {
   "codemirror_mode": {
    "name": "ipython",
    "version": 3
   },
   "file_extension": ".py",
   "mimetype": "text/x-python",
   "name": "python",
   "nbconvert_exporter": "python",
   "pygments_lexer": "ipython3",
   "version": "3.11.7"
  }
 },
 "nbformat": 4,
 "nbformat_minor": 5
}
