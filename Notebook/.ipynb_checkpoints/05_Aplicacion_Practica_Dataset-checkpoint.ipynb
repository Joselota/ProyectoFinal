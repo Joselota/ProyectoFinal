{
 "cells": [
  {
   "cell_type": "markdown",
   "id": "beed8b1f-7b59-45cf-aec3-7d8133569e87",
   "metadata": {},
   "source": [
    "<div>\n",
    "<img src=\"https://i.ibb.co/v3CvVz9/udd-short.png\" width=\"150\"/>\n",
    "    <br>\n",
    "    <strong>Universidad del Desarrollo</strong><br>\n",
    "    <em>Magíster en Data Science</em><br>\n",
    "    <em>Profesor: Víctor Navarro Aránguiz</em><br>\n",
    "\n",
    "</div>\n",
    "\n",
    "# Python para Data Science: Proyecto final (Parte: Aplicación práctica del dataSet)\n",
    "\n",
    "**Fecha de Entrega**: 04 de Agosto de 2024\n",
    "\n",
    "**Objetivos:**\n",
    "  - Proponer una aplicación práctica basada en los datos analizados.\n",
    "\n",
    "**Nombre Estudiante(s)**: `Ingrid Solís`"
   ]
  },
  {
   "cell_type": "code",
   "execution_count": null,
   "id": "26bbb06b-891a-4418-9ae8-40181e765e39",
   "metadata": {},
   "outputs": [],
   "source": [
    "***Hits:***\n",
    "\n",
    "\n",
    "Propuesta de Aplicación Práctica: Plataforma de Prevención del Crimen en Cambridge, MA\n",
    "Objetivo de la Propuesta\n",
    "Desarrollar una plataforma de prevención del crimen que utilice el análisis de datos sobre crímenes en Cambridge, MA, para proporcionar información valiosa a la comunidad, las autoridades locales y los responsables de la formulación de políticas. La plataforma permitirá a los usuarios visualizar patrones de criminalidad, recibir alertas sobre actividades delictivas y fomentar la participación ciudadana en la prevención del crimen.\n",
    "\n",
    "Acciones a Realizar\n",
    "1. Análisis de Datos\n",
    "Hallazgos Clave:\n",
    "\n",
    "Identificación de los tipos de crímenes más comunes en diferentes áreas de Cambridge.\n",
    "Determinación de las tendencias delictivas a lo largo del tiempo (por año, mes, etc.).\n",
    "Identificación de áreas específicas con alta incidencia de delitos.\n",
    "Estos hallazgos servirán como base para las funcionalidades de la plataforma.\n",
    "\n",
    "2. Desarrollo de la Plataforma\n",
    "Características Propuestas:\n",
    "\n",
    "Visualización de Datos: Un panel interactivo que muestre estadísticas de crímenes por tipo, año y ubicación, utilizando gráficos y mapas.\n",
    "Alertas de Crimen: Notificaciones automáticas a los residentes sobre crímenes recientes en su área, basadas en un sistema de geolocalización.\n",
    "Reportes de la Comunidad: Funcionalidad para que los ciudadanos informen sobre delitos o actividades sospechosas.\n",
    "Consejos de Seguridad: Sugerencias personalizadas para mejorar la seguridad en diferentes vecindarios, basadas en la historia delictiva.\n",
    "Colaboración con la Policía: Integración con el departamento de policía local para recibir actualizaciones y mejorar la respuesta comunitaria."
   ]
  },
  {
   "cell_type": "markdown",
   "id": "d4eadc75-6fe8-4c10-ae4d-b7c54f52c479",
   "metadata": {},
   "source": []
  }
 ],
 "metadata": {
  "kernelspec": {
   "display_name": "Python 3 (ipykernel)",
   "language": "python",
   "name": "python3"
  },
  "language_info": {
   "codemirror_mode": {
    "name": "ipython",
    "version": 3
   },
   "file_extension": ".py",
   "mimetype": "text/x-python",
   "name": "python",
   "nbconvert_exporter": "python",
   "pygments_lexer": "ipython3",
   "version": "3.11.7"
  }
 },
 "nbformat": 4,
 "nbformat_minor": 5
}
