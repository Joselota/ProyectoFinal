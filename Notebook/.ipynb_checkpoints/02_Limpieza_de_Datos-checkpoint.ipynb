{
 "cells": [
  {
   "cell_type": "markdown",
   "id": "147de2f4-d1c8-4b0b-94b7-920905f74dff",
   "metadata": {},
   "source": [
    "<div>\n",
    "<img src=\"https://i.ibb.co/v3CvVz9/udd-short.png\" width=\"150\"/>\n",
    "    <br>\n",
    "    <strong>Universidad del Desarrollo</strong><br>\n",
    "    <em>Magíster en Data Science</em><br>\n",
    "    <em>Profesor: Víctor Navarro Aránguiz</em><br>\n",
    "\n",
    "</div>\n",
    "\n",
    "# Python para Data Science: Proyecto final (Parte: Limpieza de datos)\n",
    "\n",
    "**Fecha de Entrega**: 04 de Agosto de 2024\n",
    "\n",
    "**Objetivos:**\n",
    "  - En base a la inspección anterior, limpiar el dataset para garantizar que esté listo para el análisis.\n",
    "\n",
    "**Nombre Estudiante(s)**: `Ingrid Solís`"
   ]
  },
  {
   "cell_type": "code",
   "execution_count": 23,
   "id": "eaba8e25-5e8c-4b4a-a98c-e2867d138b52",
   "metadata": {},
   "outputs": [],
   "source": [
    "import pandas as pd\n",
    "\n",
    "archivo_csv = '/Users/desarrollo/Downloads/Crime_Reports_20240701.csv'\n",
    "df = pd.read_csv(archivo_csv)"
   ]
  },
  {
   "cell_type": "code",
   "execution_count": 13,
   "id": "835a9da7-ca2b-484a-afb1-b90db5adbcef",
   "metadata": {},
   "outputs": [
    {
     "name": "stdout",
     "output_type": "stream",
     "text": [
      "Valores faltantes por columna:\n",
      "Crime Date Time     11\n",
      "Reporting Area       8\n",
      "Neighborhood         8\n",
      "Location           295\n",
      "dtype: int64\n"
     ]
    }
   ],
   "source": [
    "# Identificar valores faltantes\n",
    "valores_faltantes = df.isnull().sum()\n",
    "\n",
    "# Mostrar columnas con valores faltantes\n",
    "print(\"Valores faltantes por columna:\")\n",
    "print(valores_faltantes[valores_faltantes > 0])"
   ]
  },
  {
   "cell_type": "code",
   "execution_count": 15,
   "id": "81d07de1-38e3-4f35-a153-88498e6b35d7",
   "metadata": {},
   "outputs": [
    {
     "name": "stdout",
     "output_type": "stream",
     "text": [
      "\n",
      "Número de filas duplicadas: 0\n"
     ]
    }
   ],
   "source": [
    "# Identificar valores duplicados\n",
    "duplicados = df.duplicated().sum()\n",
    "print(f\"\\nNúmero de filas duplicadas: {duplicados}\")"
   ]
  },
  {
   "cell_type": "markdown",
   "id": "a148469e-8624-451b-96b1-f7a1147df232",
   "metadata": {},
   "source": [
    "**Observaciones:**\n",
    "<br> No se encuentran filas duplicadas\n",
    "<br> Se encuentran datos faltantes en las columnas: <br>\n",
    "Crime Date Time     11<br>\n",
    "Reporting Area       8<br>\n",
    "Neighborhood         8<br>\n",
    "Location           295<br>"
   ]
  }
 ],
 "metadata": {
  "kernelspec": {
   "display_name": "Python 3 (ipykernel)",
   "language": "python",
   "name": "python3"
  },
  "language_info": {
   "codemirror_mode": {
    "name": "ipython",
    "version": 3
   },
   "file_extension": ".py",
   "mimetype": "text/x-python",
   "name": "python",
   "nbconvert_exporter": "python",
   "pygments_lexer": "ipython3",
   "version": "3.11.7"
  }
 },
 "nbformat": 4,
 "nbformat_minor": 5
}
