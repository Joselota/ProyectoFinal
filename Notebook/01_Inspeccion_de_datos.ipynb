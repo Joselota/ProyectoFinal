{
 "cells": [
  {
   "cell_type": "markdown",
   "id": "55d7d1c6-9ead-4c18-baea-b836e86311a8",
   "metadata": {},
   "source": [
    "<div>\n",
    "<img src=\"https://i.ibb.co/v3CvVz9/udd-short.png\" width=\"150\"/>\n",
    "    <br>\n",
    "    <strong>Universidad del Desarrollo</strong><br>\n",
    "    <em>Magíster en Data Science</em><br>\n",
    "    <em>Profesor: Víctor Navarro Aránguiz</em><br>\n",
    "\n",
    "</div>\n",
    "\n",
    "# Python para Data Science: Proyecto final (Parte: Inspección de datos)\n",
    "\n",
    "**Fecha de Entrega**: 04 de Agosto de 2024\n",
    "\n",
    "**Objetivos:**\n",
    "  - Se debe realizar una inspección inicial del dataset para entender su estructura, contenido y calidad.\n",
    "\n",
    "**Nombre Estudiante(s)**: `Ingrid Solís`"
   ]
  },
  {
   "cell_type": "markdown",
   "id": "9e775d8a-a200-4497-a50a-b02f849c0609",
   "metadata": {},
   "source": [
    "<div> <br><br>\n",
    "<em>Iniciaremos llamando al archivo que hemos seleccionado, llamado: Crime_Reports_20240701.csv</em><br>\n",
    "Donde leeremos el archivo para poder iniciar la inspección de los datos que contiene<br>\n",
    "</div>\n",
    "<br>"
   ]
  },
  {
   "cell_type": "code",
   "execution_count": 17,
   "id": "39ace059-7168-452e-9cda-470dcec49539",
   "metadata": {},
   "outputs": [
    {
     "name": "stdout",
     "output_type": "stream",
     "text": [
      "  File Number          Date of Report                      Crime Date Time  \\\n",
      "0  2009-01323  02/21/2009 09:53:00 AM             02/21/2009 09:20 - 09:30   \n",
      "1  2009-01324  02/21/2009 09:59:00 AM  02/20/2009 22:30 - 02/21/2009 10:00   \n",
      "2  2009-01327  02/21/2009 12:32:00 PM  02/19/2009 21:00 - 02/21/2009 12:00   \n",
      "3  2009-01331  02/21/2009 03:05:00 PM             02/21/2009 15:00 - 15:10   \n",
      "4  2009-01346  02/22/2009 05:02:00 AM                     02/22/2009 05:02   \n",
      "\n",
      "            Crime  Reporting Area     Neighborhood  \\\n",
      "0         Threats           105.0   East Cambridge   \n",
      "1      Auto Theft          1109.0  North Cambridge   \n",
      "2     Hit and Run          1109.0  North Cambridge   \n",
      "3  Larceny (Misc)          1303.0  Strawberry Hill   \n",
      "4             OUI           105.0   East Cambridge   \n",
      "\n",
      "                            Location  \n",
      "0         100 OTIS ST, Cambridge, MA  \n",
      "1      400 RINDGE AVE, Cambridge, MA  \n",
      "2      400 RINDGE AVE, Cambridge, MA  \n",
      "3      0 NORUMBEGA ST, Cambridge, MA  \n",
      "4  FIFTH ST & GORE ST, Cambridge, MA  \n"
     ]
    }
   ],
   "source": [
    "import pandas as pd\n",
    "\n",
    "archivo_csv = '/Users/desarrollo/Downloads/Crime_Reports_20240701.csv'\n",
    "df = pd.read_csv(archivo_csv)\n",
    "print(df.head())\n"
   ]
  },
  {
   "cell_type": "markdown",
   "id": "b6c68f56-2f5e-4c8a-9506-f7a075e1f48f",
   "metadata": {},
   "source": [
    "<br>\n",
    "<div>\n",
    "Lo que podemos observar inicialmente, el archivo contiene 7 columnas, pero debemos invertigar más de que información trata este archivo\n",
    "</div>\n",
    "<br>"
   ]
  },
  {
   "cell_type": "code",
   "execution_count": 43,
   "id": "400f0896-8c1c-495d-99e4-e63d1adcdf17",
   "metadata": {},
   "outputs": [
    {
     "name": "stdout",
     "output_type": "stream",
     "text": [
      "\n",
      "Información sobre el DataFrame:\n",
      "<class 'pandas.core.frame.DataFrame'>\n",
      "RangeIndex: 95923 entries, 0 to 95922\n",
      "Data columns (total 7 columns):\n",
      " #   Column           Non-Null Count  Dtype  \n",
      "---  ------           --------------  -----  \n",
      " 0   File Number      95923 non-null  object \n",
      " 1   Date of Report   95923 non-null  object \n",
      " 2   Crime Date Time  95912 non-null  object \n",
      " 3   Crime            95923 non-null  object \n",
      " 4   Reporting Area   95915 non-null  float64\n",
      " 5   Neighborhood     95915 non-null  object \n",
      " 6   Location         95628 non-null  object \n",
      "dtypes: float64(1), object(6)\n",
      "memory usage: 5.1+ MB\n"
     ]
    }
   ],
   "source": [
    "# Información sobre el DataFrame\n",
    "print(\"\\nInformación sobre el DataFrame:\")\n",
    "df.info()"
   ]
  },
  {
   "cell_type": "code",
   "execution_count": 21,
   "id": "36fff07a-317f-4ee2-b878-ebe3de6fe25d",
   "metadata": {},
   "outputs": [
    {
     "name": "stdout",
     "output_type": "stream",
     "text": [
      "Columna: File Number\n",
      "Tipo de dato: object\n",
      "Descripción: count          95923\n",
      "unique         95923\n",
      "top       2009-01323\n",
      "freq               1\n",
      "Name: File Number, dtype: object\n",
      "----------------------------------------\n",
      "Columna: Date of Report\n",
      "Tipo de dato: object\n",
      "Descripción: count                      95923\n",
      "unique                     95114\n",
      "top       03/29/2014 06:58:00 PM\n",
      "freq                           3\n",
      "Name: Date of Report, dtype: object\n",
      "----------------------------------------\n",
      "Columna: Crime Date Time\n",
      "Tipo de dato: object\n",
      "Descripción: count                        95912\n",
      "unique                       95374\n",
      "top       10/30/2014 03:06 - 04:06\n",
      "freq                            16\n",
      "Name: Crime Date Time, dtype: object\n",
      "----------------------------------------\n",
      "Columna: Crime\n",
      "Tipo de dato: object\n",
      "Descripción: count           95923\n",
      "unique             54\n",
      "top       Hit and Run\n",
      "freq             9150\n",
      "Name: Crime, dtype: object\n",
      "----------------------------------------\n",
      "Columna: Reporting Area\n",
      "Tipo de dato: float64\n",
      "Descripción: count    95915.000000\n",
      "mean       632.548892\n",
      "std        336.783879\n",
      "min        101.000000\n",
      "25%        406.000000\n",
      "50%        604.000000\n",
      "75%        912.000000\n",
      "max       1304.000000\n",
      "Name: Reporting Area, dtype: float64\n",
      "----------------------------------------\n",
      "Columna: Neighborhood\n",
      "Tipo de dato: object\n",
      "Descripción: count             95915\n",
      "unique               13\n",
      "top       Cambridgeport\n",
      "freq              14496\n",
      "Name: Neighborhood, dtype: object\n",
      "----------------------------------------\n",
      "Columna: Location\n",
      "Tipo de dato: object\n",
      "Descripción: count                                   95628\n",
      "unique                                   5143\n",
      "top       100 CAMBRIDGESIDE PL, Cambridge, MA\n",
      "freq                                     3133\n",
      "Name: Location, dtype: object\n",
      "----------------------------------------\n"
     ]
    }
   ],
   "source": [
    "# Descripción detallada de cada columna\n",
    "for column in df.columns:\n",
    "    print(f\"Columna: {column}\")\n",
    "    print(f\"Tipo de dato: {df[column].dtype}\")\n",
    "    print(f\"Descripción: {df[column].describe()}\")\n",
    "    print(\"-\" * 40)"
   ]
  },
  {
   "cell_type": "code",
   "execution_count": 25,
   "id": "c29740ed-fb2e-47d7-ba63-3c280250171d",
   "metadata": {},
   "outputs": [
    {
     "name": "stdout",
     "output_type": "stream",
     "text": [
      "Valores faltantes por columna:\n",
      "Crime Date Time     11\n",
      "Reporting Area       8\n",
      "Neighborhood         8\n",
      "Location           295\n",
      "dtype: int64\n"
     ]
    }
   ],
   "source": [
    "# Identificar valores faltantes\n",
    "valores_faltantes = df.isnull().sum()\n",
    "\n",
    "# Mostrar columnas con valores faltantes\n",
    "print(\"Valores faltantes por columna:\")\n",
    "print(valores_faltantes[valores_faltantes > 0])"
   ]
  },
  {
   "cell_type": "code",
   "execution_count": 27,
   "id": "3a3c0174-3b82-4afd-b022-9c009b0cb497",
   "metadata": {},
   "outputs": [
    {
     "name": "stdout",
     "output_type": "stream",
     "text": [
      "\n",
      "Número de filas duplicadas: 0\n"
     ]
    }
   ],
   "source": [
    "# Identificar valores duplicados\n",
    "duplicados = df.duplicated().sum()\n",
    "print(f\"\\nNúmero de filas duplicadas: {duplicados}\")"
   ]
  },
  {
   "cell_type": "markdown",
   "id": "57bafcda-1791-46d5-85a6-3efa86d54350",
   "metadata": {},
   "source": [
    "<br>\n",
    "<br>\n",
    "Por la volumentría de la información (más de 95.000 registros) hace muy interesante este archivo para realizar el trabajo.<br>\n",
    "También comentar: Que se trata de un archivo que contiene información de crimenes ocurridos en condado de Cambridge, Massachusetts, USA \n",
    "<br>"
   ]
  },
  {
   "cell_type": "code",
   "execution_count": null,
   "id": "1dbdd451-e994-4add-95e4-3be5a0c016a8",
   "metadata": {},
   "outputs": [],
   "source": []
  }
 ],
 "metadata": {
  "kernelspec": {
   "display_name": "Python 3 (ipykernel)",
   "language": "python",
   "name": "python3"
  },
  "language_info": {
   "codemirror_mode": {
    "name": "ipython",
    "version": 3
   },
   "file_extension": ".py",
   "mimetype": "text/x-python",
   "name": "python",
   "nbconvert_exporter": "python",
   "pygments_lexer": "ipython3",
   "version": "3.11.7"
  }
 },
 "nbformat": 4,
 "nbformat_minor": 5
}
